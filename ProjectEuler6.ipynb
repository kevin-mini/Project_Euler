{
 "cells": [
  {
   "cell_type": "code",
   "execution_count": null,
   "metadata": {
    "collapsed": true
   },
   "outputs": [],
   "source": [
    "#!usr/bin/env python\n",
    "#anuhya\n",
    "#Project Euler 6. Sum square diffrence\n",
    "#taking sum of n natural numbers and sum sqaures of n natural numbers\n",
    "#26-06-2017\n",
    "n=100\n",
    "s1=(n*(n+1))/2\n",
    "s2=(n*(n+1)*(2*n+1))/6\n",
    "print \"The diffrence is {}\".format(s1**2-s2)"
   ]
  }
 ],
 "metadata": {
  "kernelspec": {
   "display_name": "Python 2",
   "language": "python",
   "name": "python2"
  },
  "language_info": {
   "codemirror_mode": {
    "name": "ipython",
    "version": 2
   },
   "file_extension": ".py",
   "mimetype": "text/x-python",
   "name": "python",
   "nbconvert_exporter": "python",
   "pygments_lexer": "ipython2",
   "version": "2.7.12"
  }
 },
 "nbformat": 4,
 "nbformat_minor": 2
}
