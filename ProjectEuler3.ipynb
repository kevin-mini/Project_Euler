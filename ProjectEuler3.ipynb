{
 "cells": [
  {
   "cell_type": "code",
   "execution_count": null,
   "metadata": {
    "collapsed": true
   },
   "outputs": [],
   "source": [
    "#!/usr/bin/env/python\n",
    "#anuhya\n",
    "#Project Euler 4 .Largest palindrome product\n",
    "#26-05-2017\n",
    "#using maximum product of largest 3 digited number and finding palindrome in that range -->for loop running from 999*999 till 100*100\n",
    "#check if that palindrome is obtained from 3 digited numbers multiplication-->div function\n",
    "def reverse(val):\n",
    "    return val[::-1]\n",
    "\n",
    "def div(val):\n",
    "    for i in xrange(100,999,1):\n",
    "        if (val%i ==0 and 100<=(val/i)<=999):\n",
    "            return True\n",
    "\n",
    "p_min=10000\n",
    "p_max=998001\n",
    "for val in xrange(998001,10000,-1):\n",
    "    if (str(val)==reverse(str(val))) :\n",
    "        if div(val):\n",
    "            break\n",
    "print val"
   ]
  }
 ],
 "metadata": {
  "kernelspec": {
   "display_name": "Python 2",
   "language": "python",
   "name": "python2"
  },
  "language_info": {
   "codemirror_mode": {
    "name": "ipython",
    "version": 2
   },
   "file_extension": ".py",
   "mimetype": "text/x-python",
   "name": "python",
   "nbconvert_exporter": "python",
   "pygments_lexer": "ipython2",
   "version": "2.7.12"
  }
 },
 "nbformat": 4,
 "nbformat_minor": 2
}
