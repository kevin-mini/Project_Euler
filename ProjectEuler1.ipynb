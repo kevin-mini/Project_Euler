{
 "cells": [
  {
   "cell_type": "code",
   "execution_count": null,
   "metadata": {
    "collapsed": true
   },
   "outputs": [],
   "source": [
    "#!/usr/bin/env/python\n",
    "#anuhya\n",
    "#Project Euler 1 .Sum of multiples of 3 and 5 below 1000\n",
    "#22-5-2017\n",
    "sum =0\n",
    "for n in range(1,1000):\n",
    "    if (n%3==0 or n%5==0):\n",
    "        sum =sum +n\n",
    "print \"the sum is {}\" .format(sum)"
   ]
  }
 ],
 "metadata": {
  "kernelspec": {
   "display_name": "Python 2",
   "language": "python",
   "name": "python2"
  },
  "language_info": {
   "codemirror_mode": {
    "name": "ipython",
    "version": 2
   },
   "file_extension": ".py",
   "mimetype": "text/x-python",
   "name": "python",
   "nbconvert_exporter": "python",
   "pygments_lexer": "ipython2",
   "version": "2.7.12"
  }
 },
 "nbformat": 4,
 "nbformat_minor": 2
}
