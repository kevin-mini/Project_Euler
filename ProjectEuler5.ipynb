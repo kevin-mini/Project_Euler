{
 "cells": [
  {
   "cell_type": "code",
   "execution_count": null,
   "metadata": {
    "collapsed": true
   },
   "outputs": [],
   "source": [
    "#!usr/bin/env python\n",
    "#anuhya\n",
    "#Project Euler 5. Smallest multiple\n",
    "#lcm and gcd are associative and lcm=prod/gcd. smallest multiple is nothing but lcm of all the numbers\n",
    "#02-06-2017\n",
    "from fractions import gcd\n",
    "l=[1,2,3,4,5,6,7,8,9,10,11,12,13,14,15,16,17,18,19,20]\n",
    "p=l[0]\n",
    "for i in xrange(1,20):\n",
    "    p=(p*l[i])/(gcd(p,l[i]))\n",
    "print p"
   ]
  }
 ],
 "metadata": {
  "kernelspec": {
   "display_name": "Python 2",
   "language": "python",
   "name": "python2"
  },
  "language_info": {
   "codemirror_mode": {
    "name": "ipython",
    "version": 2
   },
   "file_extension": ".py",
   "mimetype": "text/x-python",
   "name": "python",
   "nbconvert_exporter": "python",
   "pygments_lexer": "ipython2",
   "version": "2.7.12"
  }
 },
 "nbformat": 4,
 "nbformat_minor": 2
}
