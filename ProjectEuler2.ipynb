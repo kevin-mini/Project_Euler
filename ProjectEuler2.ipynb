{
 "cells": [
  {
   "cell_type": "code",
   "execution_count": null,
   "metadata": {
    "collapsed": true
   },
   "outputs": [],
   "source": [
    "#!/usr/bin/env/python\n",
    "#anuhya\n",
    "#Project Euler 2. Fibnocci series(up to 4 million)\n",
    "#22-05-2017\n",
    "\n",
    "a,b,c,s=0,1,0,0\n",
    "while(c<4000000):\n",
    "    c=a+b\n",
    "    a=b\n",
    "    b=c\n",
    "    if (c%2==0):\n",
    "        s=s+c\n",
    "    \n",
    "print \"the sum is {}\" .format(s)"
   ]
  }
 ],
 "metadata": {
  "kernelspec": {
   "display_name": "Python 2",
   "language": "python",
   "name": "python2"
  },
  "language_info": {
   "codemirror_mode": {
    "name": "ipython",
    "version": 2
   },
   "file_extension": ".py",
   "mimetype": "text/x-python",
   "name": "python",
   "nbconvert_exporter": "python",
   "pygments_lexer": "ipython2",
   "version": "2.7.12"
  }
 },
 "nbformat": 4,
 "nbformat_minor": 2
}
