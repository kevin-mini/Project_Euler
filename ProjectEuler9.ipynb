{
 "cells": [
  {
   "cell_type": "code",
   "execution_count": null,
   "metadata": {
    "collapsed": true
   },
   "outputs": [],
   "source": [
    "#!usr/bin/env python\n",
    "#anuhya\n",
    "#Project Euler 9. Pythogrean triplets\n",
    "#31-05-2017\n",
    "#using euclidean theorem get m,n from which triplets can be obtained\n",
    "#a=2mn,b=m2-n2,c=m2+n2...Here a+b+c=1000 by replacing m,n we can get m(m+n)=500.. solving this\n",
    "from itertools import izip\n",
    "def itera(it):\n",
    "    a=iter(it)\n",
    "    return izip(a,a)\n",
    "    \n",
    "\n",
    "l=[]\n",
    "for i in xrange(501):\n",
    "    for j in xrange(501):\n",
    "        if(i*(i+j)==500):\n",
    "            l.append(i)\n",
    "            l.append(j)\n",
    "    \n",
    "for i,j in itera(l):\n",
    "    if ((2*i*j)>1000 or (i*i+j*j)>1000):\n",
    "         continue\n",
    "    else:\n",
    "        a=2*i*j\n",
    "        b=i*i+j*j\n",
    "        c=i*i-j*j\n",
    "        print a,b,c\n",
    "\n"
   ]
  }
 ],
 "metadata": {
  "kernelspec": {
   "display_name": "Python 2",
   "language": "python",
   "name": "python2"
  },
  "language_info": {
   "codemirror_mode": {
    "name": "ipython",
    "version": 2
   },
   "file_extension": ".py",
   "mimetype": "text/x-python",
   "name": "python",
   "nbconvert_exporter": "python",
   "pygments_lexer": "ipython2",
   "version": "2.7.12"
  }
 },
 "nbformat": 4,
 "nbformat_minor": 2
}
