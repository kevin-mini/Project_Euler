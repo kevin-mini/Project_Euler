{
 "cells": [
  {
   "cell_type": "code",
   "execution_count": null,
   "metadata": {
    "collapsed": true
   },
   "outputs": [],
   "source": [
    "#!usr/bin/env python\n",
    "#Project Euler 10 .Sum of primes\n",
    "#31-05-2017\n",
    "#taking n upto 2 million and using the sieve of eratosthenes\n",
    "import numpy as np\n",
    "import itertools as it\n",
    "l=[]\n",
    "c=0\n",
    "array1=np.full(2000001,True,dtype='bool')\n",
    "for i in xrange(2,2000000,1):\n",
    "    if (array1[i]== True ):\n",
    "        l.append(i)\n",
    "        for j in it.count(i*i,i):\n",
    "            if(j>2000000):\n",
    "                break\n",
    "            else:\n",
    "                array1[j]=False\n",
    "\n",
    "print \"The sum of primes {}\".format(sum(l))"
   ]
  }
 ],
 "metadata": {
  "kernelspec": {
   "display_name": "Python 2",
   "language": "python",
   "name": "python2"
  },
  "language_info": {
   "codemirror_mode": {
    "name": "ipython",
    "version": 2
   },
   "file_extension": ".py",
   "mimetype": "text/x-python",
   "name": "python",
   "nbconvert_exporter": "python",
   "pygments_lexer": "ipython2",
   "version": "2.7.12"
  }
 },
 "nbformat": 4,
 "nbformat_minor": 2
}
